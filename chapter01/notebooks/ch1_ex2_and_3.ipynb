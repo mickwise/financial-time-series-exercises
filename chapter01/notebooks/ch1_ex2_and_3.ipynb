{
 "cells": [
  {
   "cell_type": "markdown",
   "metadata": {},
   "source": [
    "First, we download the data. By looking at it in advance I've noticed it lacked column names, we'll fix it here:"
   ]
  },
  {
   "cell_type": "code",
   "execution_count": null,
   "metadata": {},
   "outputs": [
    {
     "name": "stderr",
     "output_type": "stream",
     "text": [
      "<>:8: SyntaxWarning: invalid escape sequence '\\s'\n",
      "<>:8: SyntaxWarning: invalid escape sequence '\\s'\n",
      "/var/folders/f5/jdc2n89x0r11q0l7zdg17s9w0000gn/T/ipykernel_15560/1177954699.py:8: SyntaxWarning: invalid escape sequence '\\s'\n",
      "  data = pd.read_table(url, header=None, names=col_names ,sep='\\s+')\n",
      "/var/folders/f5/jdc2n89x0r11q0l7zdg17s9w0000gn/T/ipykernel_15560/1177954699.py:8: SyntaxWarning: invalid escape sequence '\\s'\n",
      "  data = pd.read_table(url, header=None, names=col_names ,sep='\\s+')\n"
     ]
    },
    {
     "ename": "ModuleNotFoundError",
     "evalue": "No module named 'chapter_1'",
     "output_type": "error",
     "traceback": [
      "\u001b[31m---------------------------------------------------------------------------\u001b[39m",
      "\u001b[31mModuleNotFoundError\u001b[39m                       Traceback (most recent call last)",
      "\u001b[36mCell\u001b[39m\u001b[36m \u001b[39m\u001b[32mIn[1]\u001b[39m\u001b[32m, line 3\u001b[39m\n\u001b[32m      1\u001b[39m \u001b[38;5;28;01mimport\u001b[39;00m\u001b[38;5;250m \u001b[39m\u001b[34;01mpandas\u001b[39;00m\u001b[38;5;250m \u001b[39m\u001b[38;5;28;01mas\u001b[39;00m\u001b[38;5;250m \u001b[39m\u001b[34;01mpd\u001b[39;00m\n\u001b[32m      2\u001b[39m \u001b[38;5;28;01mimport\u001b[39;00m\u001b[38;5;250m \u001b[39m\u001b[34;01mnumpy\u001b[39;00m\u001b[38;5;250m \u001b[39m\u001b[38;5;28;01mas\u001b[39;00m\u001b[38;5;250m \u001b[39m\u001b[34;01mnp\u001b[39;00m\n\u001b[32m----> \u001b[39m\u001b[32m3\u001b[39m \u001b[38;5;28;01mimport\u001b[39;00m\u001b[38;5;250m \u001b[39m\u001b[34;01mchapter_1\u001b[39;00m\u001b[34;01m.\u001b[39;00m\u001b[34;01mutils\u001b[39;00m\u001b[38;5;250m \u001b[39m\u001b[38;5;28;01mas\u001b[39;00m\u001b[38;5;250m \u001b[39m\u001b[34;01mut\u001b[39;00m\n\u001b[32m      5\u001b[39m url = \u001b[33m'\u001b[39m\u001b[33mhttps://www.chicagobooth.edu/-/media/faculty/ruey-s-tsay/teaching/fts2/m-ibm3dx7503.txt\u001b[39m\u001b[33m'\u001b[39m\n\u001b[32m      6\u001b[39m col_names = [\u001b[33m'\u001b[39m\u001b[33mdate\u001b[39m\u001b[33m'\u001b[39m, \u001b[33m'\u001b[39m\u001b[33mibm\u001b[39m\u001b[33m'\u001b[39m, \u001b[33m'\u001b[39m\u001b[33mcrsp_vw\u001b[39m\u001b[33m'\u001b[39m, \u001b[33m'\u001b[39m\u001b[33mcrsp_ew\u001b[39m\u001b[33m'\u001b[39m, \u001b[33m'\u001b[39m\u001b[33ms&p\u001b[39m\u001b[33m'\u001b[39m]\n",
      "\u001b[31mModuleNotFoundError\u001b[39m: No module named 'chapter_1'"
     ]
    }
   ],
   "source": [
    "import pandas as pd\n",
    "import numpy as np\n",
    "import chapter_1.utils as ut\n",
    "import sys, os\n",
    "sys.path.append(os.path.abspath(\"..\"))\n",
    "import utils as ut\n",
    "\n",
    "url = 'https://www.chicagobooth.edu/-/media/faculty/ruey-s-tsay/teaching/fts2/m-ibm3dx7503.txt'\n",
    "col_names = ['date', 'ibm', 'crsp_vw', 'crsp_ew', 's&p']\n",
    "\n",
    "data = pd.read_table(url, header=None, names=col_names ,sep='\\s+')"
   ]
  },
  {
   "cell_type": "markdown",
   "metadata": {},
   "source": [
    "Now we inspect it:"
   ]
  },
  {
   "cell_type": "code",
   "execution_count": null,
   "metadata": {},
   "outputs": [
    {
     "data": {
      "text/html": [
       "<div>\n",
       "<style scoped>\n",
       "    .dataframe tbody tr th:only-of-type {\n",
       "        vertical-align: middle;\n",
       "    }\n",
       "\n",
       "    .dataframe tbody tr th {\n",
       "        vertical-align: top;\n",
       "    }\n",
       "\n",
       "    .dataframe thead th {\n",
       "        text-align: right;\n",
       "    }\n",
       "</style>\n",
       "<table border=\"1\" class=\"dataframe\">\n",
       "  <thead>\n",
       "    <tr style=\"text-align: right;\">\n",
       "      <th></th>\n",
       "      <th>date</th>\n",
       "      <th>ibm</th>\n",
       "      <th>crsp_vw</th>\n",
       "      <th>crsp_ew</th>\n",
       "      <th>s&amp;p</th>\n",
       "    </tr>\n",
       "  </thead>\n",
       "  <tbody>\n",
       "    <tr>\n",
       "      <th>0</th>\n",
       "      <td>19750131</td>\n",
       "      <td>0.12054</td>\n",
       "      <td>0.14150</td>\n",
       "      <td>0.29921</td>\n",
       "      <td>0.12281</td>\n",
       "    </tr>\n",
       "    <tr>\n",
       "      <th>1</th>\n",
       "      <td>19750228</td>\n",
       "      <td>0.15272</td>\n",
       "      <td>0.05842</td>\n",
       "      <td>0.05392</td>\n",
       "      <td>0.05989</td>\n",
       "    </tr>\n",
       "    <tr>\n",
       "      <th>2</th>\n",
       "      <td>19750331</td>\n",
       "      <td>-0.04118</td>\n",
       "      <td>0.03019</td>\n",
       "      <td>0.08150</td>\n",
       "      <td>0.02169</td>\n",
       "    </tr>\n",
       "    <tr>\n",
       "      <th>3</th>\n",
       "      <td>19750430</td>\n",
       "      <td>0.01573</td>\n",
       "      <td>0.04649</td>\n",
       "      <td>0.03109</td>\n",
       "      <td>0.04726</td>\n",
       "    </tr>\n",
       "    <tr>\n",
       "      <th>4</th>\n",
       "      <td>19750530</td>\n",
       "      <td>0.03157</td>\n",
       "      <td>0.05514</td>\n",
       "      <td>0.07288</td>\n",
       "      <td>0.04410</td>\n",
       "    </tr>\n",
       "  </tbody>\n",
       "</table>\n",
       "</div>"
      ],
      "text/plain": [
       "       date      ibm  crsp_vw  crsp_ew      s&p\n",
       "0  19750131  0.12054  0.14150  0.29921  0.12281\n",
       "1  19750228  0.15272  0.05842  0.05392  0.05989\n",
       "2  19750331 -0.04118  0.03019  0.08150  0.02169\n",
       "3  19750430  0.01573  0.04649  0.03109  0.04726\n",
       "4  19750530  0.03157  0.05514  0.07288  0.04410"
      ]
     },
     "execution_count": 2,
     "metadata": {},
     "output_type": "execute_result"
    }
   ],
   "source": [
    "data.head()"
   ]
  },
  {
   "cell_type": "markdown",
   "metadata": {},
   "source": [
    "We can immediately notice the same date issue as before, we'll fix it now:"
   ]
  },
  {
   "cell_type": "code",
   "execution_count": null,
   "metadata": {},
   "outputs": [
    {
     "data": {
      "text/html": [
       "<div>\n",
       "<style scoped>\n",
       "    .dataframe tbody tr th:only-of-type {\n",
       "        vertical-align: middle;\n",
       "    }\n",
       "\n",
       "    .dataframe tbody tr th {\n",
       "        vertical-align: top;\n",
       "    }\n",
       "\n",
       "    .dataframe thead th {\n",
       "        text-align: right;\n",
       "    }\n",
       "</style>\n",
       "<table border=\"1\" class=\"dataframe\">\n",
       "  <thead>\n",
       "    <tr style=\"text-align: right;\">\n",
       "      <th></th>\n",
       "      <th>date</th>\n",
       "      <th>ibm</th>\n",
       "      <th>crsp_vw</th>\n",
       "      <th>crsp_ew</th>\n",
       "      <th>s&amp;p</th>\n",
       "    </tr>\n",
       "  </thead>\n",
       "  <tbody>\n",
       "    <tr>\n",
       "      <th>0</th>\n",
       "      <td>1975-01-31</td>\n",
       "      <td>0.12054</td>\n",
       "      <td>0.14150</td>\n",
       "      <td>0.29921</td>\n",
       "      <td>0.12281</td>\n",
       "    </tr>\n",
       "    <tr>\n",
       "      <th>1</th>\n",
       "      <td>1975-02-28</td>\n",
       "      <td>0.15272</td>\n",
       "      <td>0.05842</td>\n",
       "      <td>0.05392</td>\n",
       "      <td>0.05989</td>\n",
       "    </tr>\n",
       "    <tr>\n",
       "      <th>2</th>\n",
       "      <td>1975-03-31</td>\n",
       "      <td>-0.04118</td>\n",
       "      <td>0.03019</td>\n",
       "      <td>0.08150</td>\n",
       "      <td>0.02169</td>\n",
       "    </tr>\n",
       "    <tr>\n",
       "      <th>3</th>\n",
       "      <td>1975-04-30</td>\n",
       "      <td>0.01573</td>\n",
       "      <td>0.04649</td>\n",
       "      <td>0.03109</td>\n",
       "      <td>0.04726</td>\n",
       "    </tr>\n",
       "    <tr>\n",
       "      <th>4</th>\n",
       "      <td>1975-05-30</td>\n",
       "      <td>0.03157</td>\n",
       "      <td>0.05514</td>\n",
       "      <td>0.07288</td>\n",
       "      <td>0.04410</td>\n",
       "    </tr>\n",
       "  </tbody>\n",
       "</table>\n",
       "</div>"
      ],
      "text/plain": [
       "        date      ibm  crsp_vw  crsp_ew      s&p\n",
       "0 1975-01-31  0.12054  0.14150  0.29921  0.12281\n",
       "1 1975-02-28  0.15272  0.05842  0.05392  0.05989\n",
       "2 1975-03-31 -0.04118  0.03019  0.08150  0.02169\n",
       "3 1975-04-30  0.01573  0.04649  0.03109  0.04726\n",
       "4 1975-05-30  0.03157  0.05514  0.07288  0.04410"
      ]
     },
     "execution_count": 3,
     "metadata": {},
     "output_type": "execute_result"
    }
   ],
   "source": [
    "data['date'] = pd.to_datetime(data['date'], format='%Y%m%d')\n",
    "data.head()"
   ]
  },
  {
   "cell_type": "markdown",
   "metadata": {},
   "source": [
    "We now add log returns and percentage columns for them and the simple *net* returns:"
   ]
  },
  {
   "cell_type": "code",
   "execution_count": null,
   "metadata": {},
   "outputs": [
    {
     "data": {
      "text/html": [
       "<div>\n",
       "<style scoped>\n",
       "    .dataframe tbody tr th:only-of-type {\n",
       "        vertical-align: middle;\n",
       "    }\n",
       "\n",
       "    .dataframe tbody tr th {\n",
       "        vertical-align: top;\n",
       "    }\n",
       "\n",
       "    .dataframe thead th {\n",
       "        text-align: right;\n",
       "    }\n",
       "</style>\n",
       "<table border=\"1\" class=\"dataframe\">\n",
       "  <thead>\n",
       "    <tr style=\"text-align: right;\">\n",
       "      <th></th>\n",
       "      <th>date</th>\n",
       "      <th>ibm</th>\n",
       "      <th>crsp_vw</th>\n",
       "      <th>crsp_ew</th>\n",
       "      <th>s&amp;p</th>\n",
       "      <th>log_ibm</th>\n",
       "      <th>log_crsp_vw</th>\n",
       "      <th>log_crsp_ew</th>\n",
       "      <th>log_s&amp;p</th>\n",
       "      <th>ibm_percent</th>\n",
       "      <th>crsp_vw_percent</th>\n",
       "      <th>crsp_ew_percent</th>\n",
       "      <th>s&amp;p_percent</th>\n",
       "      <th>log_ibm_percent</th>\n",
       "      <th>log_crsp_vw_percent</th>\n",
       "      <th>log_crsp_ew_percent</th>\n",
       "      <th>log_s&amp;p_percent</th>\n",
       "    </tr>\n",
       "  </thead>\n",
       "  <tbody>\n",
       "    <tr>\n",
       "      <th>0</th>\n",
       "      <td>1975-01-31</td>\n",
       "      <td>0.12054</td>\n",
       "      <td>0.14150</td>\n",
       "      <td>0.29921</td>\n",
       "      <td>0.12281</td>\n",
       "      <td>0.113811</td>\n",
       "      <td>0.132343</td>\n",
       "      <td>0.261756</td>\n",
       "      <td>0.115834</td>\n",
       "      <td>12.054</td>\n",
       "      <td>14.150</td>\n",
       "      <td>29.921</td>\n",
       "      <td>12.281</td>\n",
       "      <td>11.381</td>\n",
       "      <td>13.234</td>\n",
       "      <td>26.176</td>\n",
       "      <td>11.583</td>\n",
       "    </tr>\n",
       "    <tr>\n",
       "      <th>1</th>\n",
       "      <td>1975-02-28</td>\n",
       "      <td>0.15272</td>\n",
       "      <td>0.05842</td>\n",
       "      <td>0.05392</td>\n",
       "      <td>0.05989</td>\n",
       "      <td>0.142124</td>\n",
       "      <td>0.056777</td>\n",
       "      <td>0.052517</td>\n",
       "      <td>0.058165</td>\n",
       "      <td>15.272</td>\n",
       "      <td>5.842</td>\n",
       "      <td>5.392</td>\n",
       "      <td>5.989</td>\n",
       "      <td>14.212</td>\n",
       "      <td>5.678</td>\n",
       "      <td>5.252</td>\n",
       "      <td>5.817</td>\n",
       "    </tr>\n",
       "    <tr>\n",
       "      <th>2</th>\n",
       "      <td>1975-03-31</td>\n",
       "      <td>-0.04118</td>\n",
       "      <td>0.03019</td>\n",
       "      <td>0.08150</td>\n",
       "      <td>0.02169</td>\n",
       "      <td>-0.042052</td>\n",
       "      <td>0.029743</td>\n",
       "      <td>0.078349</td>\n",
       "      <td>0.021458</td>\n",
       "      <td>-4.118</td>\n",
       "      <td>3.019</td>\n",
       "      <td>8.150</td>\n",
       "      <td>2.169</td>\n",
       "      <td>-4.205</td>\n",
       "      <td>2.974</td>\n",
       "      <td>7.835</td>\n",
       "      <td>2.146</td>\n",
       "    </tr>\n",
       "    <tr>\n",
       "      <th>3</th>\n",
       "      <td>1975-04-30</td>\n",
       "      <td>0.01573</td>\n",
       "      <td>0.04649</td>\n",
       "      <td>0.03109</td>\n",
       "      <td>0.04726</td>\n",
       "      <td>0.015608</td>\n",
       "      <td>0.045442</td>\n",
       "      <td>0.030616</td>\n",
       "      <td>0.046177</td>\n",
       "      <td>1.573</td>\n",
       "      <td>4.649</td>\n",
       "      <td>3.109</td>\n",
       "      <td>4.726</td>\n",
       "      <td>1.561</td>\n",
       "      <td>4.544</td>\n",
       "      <td>3.062</td>\n",
       "      <td>4.618</td>\n",
       "    </tr>\n",
       "    <tr>\n",
       "      <th>4</th>\n",
       "      <td>1975-05-30</td>\n",
       "      <td>0.03157</td>\n",
       "      <td>0.05514</td>\n",
       "      <td>0.07288</td>\n",
       "      <td>0.04410</td>\n",
       "      <td>0.031082</td>\n",
       "      <td>0.053673</td>\n",
       "      <td>0.070347</td>\n",
       "      <td>0.043155</td>\n",
       "      <td>3.157</td>\n",
       "      <td>5.514</td>\n",
       "      <td>7.288</td>\n",
       "      <td>4.410</td>\n",
       "      <td>3.108</td>\n",
       "      <td>5.367</td>\n",
       "      <td>7.035</td>\n",
       "      <td>4.316</td>\n",
       "    </tr>\n",
       "  </tbody>\n",
       "</table>\n",
       "</div>"
      ],
      "text/plain": [
       "        date      ibm  crsp_vw  crsp_ew      s&p   log_ibm  log_crsp_vw  \\\n",
       "0 1975-01-31  0.12054  0.14150  0.29921  0.12281  0.113811     0.132343   \n",
       "1 1975-02-28  0.15272  0.05842  0.05392  0.05989  0.142124     0.056777   \n",
       "2 1975-03-31 -0.04118  0.03019  0.08150  0.02169 -0.042052     0.029743   \n",
       "3 1975-04-30  0.01573  0.04649  0.03109  0.04726  0.015608     0.045442   \n",
       "4 1975-05-30  0.03157  0.05514  0.07288  0.04410  0.031082     0.053673   \n",
       "\n",
       "   log_crsp_ew   log_s&p  ibm_percent  crsp_vw_percent  crsp_ew_percent  \\\n",
       "0     0.261756  0.115834       12.054           14.150           29.921   \n",
       "1     0.052517  0.058165       15.272            5.842            5.392   \n",
       "2     0.078349  0.021458       -4.118            3.019            8.150   \n",
       "3     0.030616  0.046177        1.573            4.649            3.109   \n",
       "4     0.070347  0.043155        3.157            5.514            7.288   \n",
       "\n",
       "   s&p_percent  log_ibm_percent  log_crsp_vw_percent  log_crsp_ew_percent  \\\n",
       "0       12.281           11.381               13.234               26.176   \n",
       "1        5.989           14.212                5.678                5.252   \n",
       "2        2.169           -4.205                2.974                7.835   \n",
       "3        4.726            1.561                4.544                3.062   \n",
       "4        4.410            3.108                5.367                7.035   \n",
       "\n",
       "   log_s&p_percent  \n",
       "0           11.583  \n",
       "1            5.817  \n",
       "2            2.146  \n",
       "3            4.618  \n",
       "4            4.316  "
      ]
     },
     "execution_count": 4,
     "metadata": {},
     "output_type": "execute_result"
    }
   ],
   "source": [
    "ut.add_log_returns(data, data.columns[1:])\n",
    "ut.add_percent(data, data.columns[1:])\n",
    "\n",
    "data.head()"
   ]
  },
  {
   "cell_type": "markdown",
   "metadata": {},
   "source": [
    "Now to calculate the statistics:"
   ]
  },
  {
   "cell_type": "code",
   "execution_count": null,
   "metadata": {},
   "outputs": [
    {
     "name": "stdout",
     "output_type": "stream",
     "text": [
      "              ibm     crsp_vw     crsp_ew         s&p     log_ibm  \\\n",
      "count  348.000000  348.000000  348.000000  348.000000  348.000000   \n",
      "mean     0.011753    0.011909    0.015908    0.009032    0.008722   \n",
      "std      0.078139    0.045618    0.056537    0.044435    0.077131   \n",
      "min     -0.261900   -0.225340   -0.272310   -0.217630   -0.303676   \n",
      "25%     -0.037757   -0.015807   -0.015977   -0.017552   -0.038489   \n",
      "50%      0.010110    0.014945    0.016995    0.010130    0.010059   \n",
      "75%      0.055410    0.043165    0.047565    0.038935    0.053929   \n",
      "max      0.353800    0.141500    0.299210    0.131770    0.302915   \n",
      "\n",
      "       log_crsp_vw  log_crsp_ew     log_s&p  ibm_percent  crsp_vw_percent  \\\n",
      "count   348.000000   348.000000  348.000000   348.000000       348.000000   \n",
      "mean      0.010800     0.014210    0.008006     1.175336         1.190868   \n",
      "std       0.045949     0.056522    0.044695     7.813905         4.561798   \n",
      "min      -0.255331    -0.317880   -0.245428   -26.190000       -22.534000   \n",
      "25%      -0.015934    -0.016107   -0.017708    -3.775750        -1.580750   \n",
      "50%       0.014834     0.016852    0.010079     1.011000         1.494500   \n",
      "75%       0.042259     0.046468    0.038196     5.541000         4.316500   \n",
      "max       0.132343     0.261756    0.123783    35.380000        14.150000   \n",
      "\n",
      "       crsp_ew_percent  s&p_percent  log_ibm_percent  log_crsp_vw_percent  \\\n",
      "count       348.000000   348.000000       348.000000           348.000000   \n",
      "mean          1.590805     0.903213         0.872198             1.079974   \n",
      "std           5.653741     4.443510         7.713083             4.594929   \n",
      "min         -27.231000   -21.763000       -30.368000           -25.533000   \n",
      "25%          -1.597750    -1.755250        -3.848750            -1.593750   \n",
      "50%           1.699500     1.013000         1.006000             1.483500   \n",
      "75%           4.756500     3.893500         5.393000             4.226250   \n",
      "max          29.921000    13.177000        30.292000            13.234000   \n",
      "\n",
      "       log_crsp_ew_percent  log_s&p_percent  \n",
      "count           348.000000       348.000000  \n",
      "mean              1.420997         0.800624  \n",
      "std               5.652252         4.469428  \n",
      "min             -31.788000       -24.543000  \n",
      "25%              -1.610750        -1.771250  \n",
      "50%               1.685500         1.008000  \n",
      "75%               4.647250         3.819750  \n",
      "max              26.176000        12.378000  \n",
      "ibm                    0.332547\n",
      "crsp_vw               -0.631580\n",
      "crsp_ew               -0.182767\n",
      "s&p                   -0.476261\n",
      "log_ibm               -0.071984\n",
      "log_crsp_vw           -0.927199\n",
      "log_crsp_ew           -0.735505\n",
      "log_s&p               -0.749076\n",
      "ibm_percent            0.332547\n",
      "crsp_vw_percent       -0.631580\n",
      "crsp_ew_percent       -0.182767\n",
      "s&p_percent           -0.476261\n",
      "log_ibm_percent       -0.071988\n",
      "log_crsp_vw_percent   -0.927226\n",
      "log_crsp_ew_percent   -0.735485\n",
      "log_s&p_percent       -0.749123\n",
      "dtype: float64\n"
     ]
    },
    {
     "data": {
      "text/plain": [
       "ibm                    1.693570\n",
       "crsp_vw                2.312882\n",
       "crsp_ew                4.423737\n",
       "s&p                    1.947149\n",
       "log_ibm                1.559987\n",
       "log_crsp_vw            3.545620\n",
       "log_crsp_ew            5.403116\n",
       "log_s&p                2.997021\n",
       "ibm_percent            1.693570\n",
       "crsp_vw_percent        2.312882\n",
       "crsp_ew_percent        4.423737\n",
       "s&p_percent            1.947149\n",
       "log_ibm_percent        1.560051\n",
       "log_crsp_vw_percent    3.545596\n",
       "log_crsp_ew_percent    5.403043\n",
       "log_s&p_percent        2.997222\n",
       "dtype: float64"
      ]
     },
     "execution_count": 5,
     "metadata": {},
     "output_type": "execute_result"
    }
   ],
   "source": [
    "num_data = data[data.columns[1:]]\n",
    "print(num_data.describe())\n",
    "print(num_data.skew())\n",
    "num_data.kurtosis()"
   ]
  },
  {
   "cell_type": "markdown",
   "metadata": {},
   "source": [
    "Finally we run the asymptotic z-tests under the asymptotic normality assumption:"
   ]
  },
  {
   "cell_type": "code",
   "execution_count": null,
   "metadata": {},
   "outputs": [
    {
     "name": "stdout",
     "output_type": "stream",
     "text": [
      "For ibm, the p_value is: 0.005299468414435815\n",
      "For crsp_vw, the p_value is: 1.699901579383222e-06\n",
      "For crsp_ew, the p_value is: 2.67082015055518e-07\n",
      "For s&p, the p_value is: 0.0001763033264922363\n"
     ]
    }
   ],
   "source": [
    "ut.t_test_for_mean(data, data.columns[1:5])"
   ]
  },
  {
   "cell_type": "markdown",
   "metadata": {},
   "source": [
    "Which means that we reject the null for all of them since they are all smaller then 0.05."
   ]
  },
  {
   "cell_type": "markdown",
   "metadata": {},
   "source": [
    "Now for exercise 3, we calculate the annual *avarage* log returns. \n",
    "Since the data is monthly, the mean we found for 'log_s&p' was $\\frac{1}{m}\\sum_{j = 1}^mr_j$ where m is the number of months the data spans. \n",
    "Notice that, for any $t \\in \\mathbb{N}$ we have:\n",
    "$$\n",
    "    r_{t + 12} = \\ln(\\frac{P_{t + 12}}{P_t}) = \\ln(\\prod_{j = 0}^11\\frac{P_{t + j + 1}}{P_{t + j}}) = \\sum_{j = 0}^11\\ln(\\frac{P_{t + j + 1}}{P_{t + j}})\n",
    "$$\n",
    "This means that, if $y = \\frac{m}{12}$ is the amount of years the data spans (which is true in our case \n",
    "since our data spans from January of 75 to December of 03 so $m\\%12 = 0$) and t is the earliest date in our data, we get:\n",
    "$$\n",
    "\\frac{1}{y}\\sum_{j = 0}^{y} r_{t + 12j} = 12*\\frac{1}{m}\\sum_{j = 0}^{m} r_{t + j} \n",
    "$$\n",
    "Thus, it is enough to multiply the monthly mean by 12 to get:"
   ]
  },
  {
   "cell_type": "code",
   "execution_count": null,
   "metadata": {},
   "outputs": [
    {
     "data": {
      "text/plain": [
       "np.float64(0.09607478867326014)"
      ]
     },
     "execution_count": 7,
     "metadata": {},
     "output_type": "execute_result"
    }
   ],
   "source": [
    "12*data['log_s&p'].mean()"
   ]
  },
  {
   "cell_type": "markdown",
   "metadata": {},
   "source": [
    "Now, if we were to invest 1$ on the S&P composite index in January 75, we can calculate the investments value in December 2003 by summing the monthly log returns \n",
    "withing that span and exponentiating it. This is because the compounded simple returns turn from a product to a sum when the logarithm is applied. Thus, we get:"
   ]
  },
  {
   "cell_type": "code",
   "execution_count": null,
   "metadata": {},
   "outputs": [
    {
     "data": {
      "text/plain": [
       "np.float64(16.218764453481448)"
      ]
     },
     "execution_count": 8,
     "metadata": {},
     "output_type": "execute_result"
    }
   ],
   "source": [
    "np.exp(data['log_s&p'].sum())"
   ]
  },
  {
   "cell_type": "markdown",
   "metadata": {},
   "source": [
    "Which means it would be worth about 16$ twenty nine years later."
   ]
  }
 ],
 "metadata": {
  "kernelspec": {
   "display_name": ".venv",
   "language": "python",
   "name": "python3"
  },
  "language_info": {
   "codemirror_mode": {
    "name": "ipython",
    "version": 3
   },
   "file_extension": ".py",
   "mimetype": "text/x-python",
   "name": "python",
   "nbconvert_exporter": "python",
   "pygments_lexer": "ipython3",
   "version": "3.13.2"
  }
 },
 "nbformat": 4,
 "nbformat_minor": 2
}
