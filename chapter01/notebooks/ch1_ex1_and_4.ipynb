{
 "cells": [
  {
   "cell_type": "markdown",
   "metadata": {},
   "source": [
    "First we download our file from the web straight into a data frame (notice that Tsay's files tend to be space separated as opposed to comma separated):  "
   ]
  },
  {
   "cell_type": "code",
   "execution_count": null,
   "metadata": {},
   "outputs": [
    {
     "name": "stderr",
     "output_type": "stream",
     "text": [
      "<>:7: SyntaxWarning: invalid escape sequence '\\s'\n",
      "<>:7: SyntaxWarning: invalid escape sequence '\\s'\n",
      "/var/folders/f5/jdc2n89x0r11q0l7zdg17s9w0000gn/T/ipykernel_16357/193930055.py:7: SyntaxWarning: invalid escape sequence '\\s'\n",
      "  data = pd.read_table(url, sep=\"\\s+\")\n"
     ]
    },
    {
     "ename": "ModuleNotFoundError",
     "evalue": "No module named 'chapter_1'",
     "output_type": "error",
     "traceback": [
      "\u001b[31m---------------------------------------------------------------------------\u001b[39m",
      "\u001b[31mModuleNotFoundError\u001b[39m                       Traceback (most recent call last)",
      "\u001b[36mCell\u001b[39m\u001b[36m \u001b[39m\u001b[32mIn[5]\u001b[39m\u001b[32m, line 3\u001b[39m\n\u001b[32m      1\u001b[39m \u001b[38;5;28;01mimport\u001b[39;00m\u001b[38;5;250m \u001b[39m\u001b[34;01mnumpy\u001b[39;00m\u001b[38;5;250m \u001b[39m\u001b[38;5;28;01mas\u001b[39;00m\u001b[38;5;250m \u001b[39m\u001b[34;01mnp\u001b[39;00m\n\u001b[32m      2\u001b[39m \u001b[38;5;28;01mimport\u001b[39;00m\u001b[38;5;250m \u001b[39m\u001b[34;01mpandas\u001b[39;00m\u001b[38;5;250m \u001b[39m\u001b[38;5;28;01mas\u001b[39;00m\u001b[38;5;250m \u001b[39m\u001b[34;01mpd\u001b[39;00m\n\u001b[32m----> \u001b[39m\u001b[32m3\u001b[39m \u001b[38;5;28;01mimport\u001b[39;00m\u001b[38;5;250m \u001b[39m\u001b[34;01mchapter_1\u001b[39;00m\u001b[34;01m.\u001b[39;00m\u001b[34;01mutils\u001b[39;00m\u001b[38;5;250m \u001b[39m\u001b[38;5;28;01mas\u001b[39;00m\u001b[38;5;250m \u001b[39m\u001b[34;01mut\u001b[39;00m\n\u001b[32m      5\u001b[39m url = \u001b[33m\"\u001b[39m\u001b[33mhttps://faculty.chicagobooth.edu/-/media/faculty/ruey-s-tsay/teaching/fts3/d-3stocks9908.txt\u001b[39m\u001b[33m\"\u001b[39m\n\u001b[32m      7\u001b[39m data = pd.read_table(url, sep=\u001b[33m\"\u001b[39m\u001b[33m\\\u001b[39m\u001b[33ms+\u001b[39m\u001b[33m\"\u001b[39m)\n",
      "\u001b[31mModuleNotFoundError\u001b[39m: No module named 'chapter_1'"
     ]
    }
   ],
   "source": [
    "import numpy as np\n",
    "import pandas as pd\n",
    "import chapter_1.utils as ut\n",
    "import sys, os\n",
    "sys.path.append(os.path.abspath(\"..\"))\n",
    "import utils as ut\n",
    "\n",
    "url = \"https://faculty.chicagobooth.edu/-/media/faculty/ruey-s-tsay/teaching/fts3/d-3stocks9908.txt\"\n",
    "\n",
    "data = pd.read_table(url, sep=\"\\s+\")\n",
    "data.head()"
   ]
  },
  {
   "cell_type": "markdown",
   "metadata": {},
   "source": [
    "Notice that our date column has the wrong type and formatting:"
   ]
  },
  {
   "cell_type": "code",
   "execution_count": null,
   "metadata": {},
   "outputs": [
    {
     "data": {
      "text/plain": [
       "np.False_"
      ]
     },
     "execution_count": 2,
     "metadata": {},
     "output_type": "execute_result"
    }
   ],
   "source": [
    "data['date'].dtype\n",
    "data['date'].isnull().any()"
   ]
  },
  {
   "cell_type": "markdown",
   "metadata": {},
   "source": [
    "Since we can see there aren't any empty date entires, we can transform them into the correct format and type as follows:"
   ]
  },
  {
   "cell_type": "code",
   "execution_count": null,
   "metadata": {},
   "outputs": [
    {
     "data": {
      "text/plain": [
       "0   1999-01-04\n",
       "1   1999-01-05\n",
       "2   1999-01-06\n",
       "3   1999-01-07\n",
       "4   1999-01-08\n",
       "Name: date, dtype: datetime64[ns]"
      ]
     },
     "execution_count": 3,
     "metadata": {},
     "output_type": "execute_result"
    }
   ],
   "source": [
    "data['date'] = pd.to_datetime(data['date'], format='%Y%m%d')\n",
    "data['date'].head()"
   ]
  },
  {
   "cell_type": "markdown",
   "metadata": {},
   "source": [
    "Now we can start the exercise. First we add a percentage return column for each company. First we check for null values:"
   ]
  },
  {
   "cell_type": "code",
   "execution_count": null,
   "metadata": {},
   "outputs": [
    {
     "data": {
      "text/plain": [
       "date    False\n",
       "axp     False\n",
       "cat     False\n",
       "sbux    False\n",
       "dtype: bool"
      ]
     },
     "execution_count": 4,
     "metadata": {},
     "output_type": "execute_result"
    }
   ],
   "source": [
    "data.isnull().any()"
   ]
  },
  {
   "cell_type": "markdown",
   "metadata": {},
   "source": [
    "Since we can see there aren't any null values in our data, we can go ahead with the calculation:"
   ]
  },
  {
   "cell_type": "code",
   "execution_count": null,
   "metadata": {},
   "outputs": [
    {
     "ename": "ModuleNotFoundError",
     "evalue": "No module named 'utils'",
     "output_type": "error",
     "traceback": [
      "\u001b[31m---------------------------------------------------------------------------\u001b[39m",
      "\u001b[31mModuleNotFoundError\u001b[39m                       Traceback (most recent call last)",
      "\u001b[36mCell\u001b[39m\u001b[36m \u001b[39m\u001b[32mIn[5]\u001b[39m\u001b[32m, line 1\u001b[39m\n\u001b[32m----> \u001b[39m\u001b[32m1\u001b[39m \u001b[38;5;28;01mimport\u001b[39;00m\u001b[38;5;250m \u001b[39m\u001b[34;01mutils\u001b[39;00m\u001b[38;5;250m \u001b[39m\u001b[38;5;28;01mas\u001b[39;00m\u001b[38;5;250m \u001b[39m\u001b[34;01mut\u001b[39;00m\n\u001b[32m      2\u001b[39m ut.add_percent(data, data.columns[\u001b[32m1\u001b[39m:])\n\u001b[32m      3\u001b[39m data.head()\n",
      "\u001b[31mModuleNotFoundError\u001b[39m: No module named 'utils'"
     ]
    }
   ],
   "source": [
    "ut.add_percent(data, data.columns[1:])\n",
    "data.head()"
   ]
  },
  {
   "cell_type": "markdown",
   "metadata": {},
   "source": [
    "Next we compute the sample statistics:"
   ]
  },
  {
   "cell_type": "code",
   "execution_count": null,
   "metadata": {},
   "outputs": [
    {
     "data": {
      "text/html": [
       "<div>\n",
       "<style scoped>\n",
       "    .dataframe tbody tr th:only-of-type {\n",
       "        vertical-align: middle;\n",
       "    }\n",
       "\n",
       "    .dataframe tbody tr th {\n",
       "        vertical-align: top;\n",
       "    }\n",
       "\n",
       "    .dataframe thead th {\n",
       "        text-align: right;\n",
       "    }\n",
       "</style>\n",
       "<table border=\"1\" class=\"dataframe\">\n",
       "  <thead>\n",
       "    <tr style=\"text-align: right;\">\n",
       "      <th></th>\n",
       "      <th>axp_percent</th>\n",
       "      <th>cat_percent</th>\n",
       "      <th>sbux_percent</th>\n",
       "    </tr>\n",
       "  </thead>\n",
       "  <tbody>\n",
       "    <tr>\n",
       "      <th>count</th>\n",
       "      <td>2515.000000</td>\n",
       "      <td>2515.000000</td>\n",
       "      <td>2515.000000</td>\n",
       "    </tr>\n",
       "    <tr>\n",
       "      <th>mean</th>\n",
       "      <td>0.014564</td>\n",
       "      <td>0.059509</td>\n",
       "      <td>0.048058</td>\n",
       "    </tr>\n",
       "    <tr>\n",
       "      <th>std</th>\n",
       "      <td>2.446229</td>\n",
       "      <td>2.169657</td>\n",
       "      <td>2.682621</td>\n",
       "    </tr>\n",
       "    <tr>\n",
       "      <th>min</th>\n",
       "      <td>-17.595000</td>\n",
       "      <td>-14.518000</td>\n",
       "      <td>-28.286000</td>\n",
       "    </tr>\n",
       "    <tr>\n",
       "      <th>25%</th>\n",
       "      <td>-1.111000</td>\n",
       "      <td>-1.144000</td>\n",
       "      <td>-1.247000</td>\n",
       "    </tr>\n",
       "    <tr>\n",
       "      <th>50%</th>\n",
       "      <td>-0.018000</td>\n",
       "      <td>0.049000</td>\n",
       "      <td>-0.051000</td>\n",
       "    </tr>\n",
       "    <tr>\n",
       "      <th>75%</th>\n",
       "      <td>1.093000</td>\n",
       "      <td>1.206000</td>\n",
       "      <td>1.249000</td>\n",
       "    </tr>\n",
       "    <tr>\n",
       "      <th>max</th>\n",
       "      <td>17.927000</td>\n",
       "      <td>14.723000</td>\n",
       "      <td>14.635000</td>\n",
       "    </tr>\n",
       "  </tbody>\n",
       "</table>\n",
       "</div>"
      ],
      "text/plain": [
       "       axp_percent  cat_percent  sbux_percent\n",
       "count  2515.000000  2515.000000   2515.000000\n",
       "mean      0.014564     0.059509      0.048058\n",
       "std       2.446229     2.169657      2.682621\n",
       "min     -17.595000   -14.518000    -28.286000\n",
       "25%      -1.111000    -1.144000     -1.247000\n",
       "50%      -0.018000     0.049000     -0.051000\n",
       "75%       1.093000     1.206000      1.249000\n",
       "max      17.927000    14.723000     14.635000"
      ]
     },
     "execution_count": 19,
     "metadata": {},
     "output_type": "execute_result"
    }
   ],
   "source": [
    "percent_data = data.filter(regex='_percent$')\n",
    "percent_data.describe()"
   ]
  },
  {
   "cell_type": "markdown",
   "metadata": {},
   "source": [
    "We are left with calculating the sample skewness and excess kurtosis:"
   ]
  },
  {
   "cell_type": "code",
   "execution_count": null,
   "metadata": {},
   "outputs": [
    {
     "name": "stdout",
     "output_type": "stream",
     "text": [
      "axp_percent    -0.034611\n",
      "cat_percent     0.011685\n",
      "sbux_percent   -0.082529\n",
      "dtype: float64\n"
     ]
    },
    {
     "data": {
      "text/plain": [
       "axp_percent     6.069710\n",
       "cat_percent     4.470628\n",
       "sbux_percent    8.774512\n",
       "dtype: float64"
      ]
     },
     "execution_count": 20,
     "metadata": {},
     "output_type": "execute_result"
    }
   ],
   "source": [
    "print(percent_data.skew())\n",
    "percent_data.kurtosis()"
   ]
  },
  {
   "cell_type": "markdown",
   "metadata": {},
   "source": [
    "Now we can move on to part two. We will add the log returns as a new column for our data frame:"
   ]
  },
  {
   "cell_type": "code",
   "execution_count": null,
   "metadata": {},
   "outputs": [
    {
     "data": {
      "text/html": [
       "<div>\n",
       "<style scoped>\n",
       "    .dataframe tbody tr th:only-of-type {\n",
       "        vertical-align: middle;\n",
       "    }\n",
       "\n",
       "    .dataframe tbody tr th {\n",
       "        vertical-align: top;\n",
       "    }\n",
       "\n",
       "    .dataframe thead th {\n",
       "        text-align: right;\n",
       "    }\n",
       "</style>\n",
       "<table border=\"1\" class=\"dataframe\">\n",
       "  <thead>\n",
       "    <tr style=\"text-align: right;\">\n",
       "      <th></th>\n",
       "      <th>date</th>\n",
       "      <th>axp</th>\n",
       "      <th>cat</th>\n",
       "      <th>sbux</th>\n",
       "      <th>axp_percent</th>\n",
       "      <th>cat_percent</th>\n",
       "      <th>sbux_percent</th>\n",
       "      <th>log_axp</th>\n",
       "      <th>log_cat</th>\n",
       "      <th>log_sbux</th>\n",
       "    </tr>\n",
       "  </thead>\n",
       "  <tbody>\n",
       "    <tr>\n",
       "      <th>0</th>\n",
       "      <td>1999-01-04</td>\n",
       "      <td>-0.009756</td>\n",
       "      <td>0.029891</td>\n",
       "      <td>-0.040089</td>\n",
       "      <td>-0.976</td>\n",
       "      <td>2.989</td>\n",
       "      <td>-4.009</td>\n",
       "      <td>-0.009804</td>\n",
       "      <td>0.029453</td>\n",
       "      <td>-0.040915</td>\n",
       "    </tr>\n",
       "    <tr>\n",
       "      <th>1</th>\n",
       "      <td>1999-01-05</td>\n",
       "      <td>-0.019089</td>\n",
       "      <td>-0.002639</td>\n",
       "      <td>-0.034803</td>\n",
       "      <td>-1.909</td>\n",
       "      <td>-0.264</td>\n",
       "      <td>-3.480</td>\n",
       "      <td>-0.019274</td>\n",
       "      <td>-0.002642</td>\n",
       "      <td>-0.035423</td>\n",
       "    </tr>\n",
       "    <tr>\n",
       "      <th>2</th>\n",
       "      <td>1999-01-06</td>\n",
       "      <td>0.043063</td>\n",
       "      <td>0.026455</td>\n",
       "      <td>-0.008413</td>\n",
       "      <td>4.306</td>\n",
       "      <td>2.645</td>\n",
       "      <td>-0.841</td>\n",
       "      <td>0.042162</td>\n",
       "      <td>0.026111</td>\n",
       "      <td>-0.008449</td>\n",
       "    </tr>\n",
       "    <tr>\n",
       "      <th>3</th>\n",
       "      <td>1999-01-07</td>\n",
       "      <td>0.012063</td>\n",
       "      <td>0.009021</td>\n",
       "      <td>0.003636</td>\n",
       "      <td>1.206</td>\n",
       "      <td>0.902</td>\n",
       "      <td>0.364</td>\n",
       "      <td>0.011991</td>\n",
       "      <td>0.008981</td>\n",
       "      <td>0.003629</td>\n",
       "    </tr>\n",
       "    <tr>\n",
       "      <th>4</th>\n",
       "      <td>1999-01-08</td>\n",
       "      <td>0.030393</td>\n",
       "      <td>0.042146</td>\n",
       "      <td>0.021739</td>\n",
       "      <td>3.039</td>\n",
       "      <td>4.215</td>\n",
       "      <td>2.174</td>\n",
       "      <td>0.029940</td>\n",
       "      <td>0.041282</td>\n",
       "      <td>0.021506</td>\n",
       "    </tr>\n",
       "  </tbody>\n",
       "</table>\n",
       "</div>"
      ],
      "text/plain": [
       "        date       axp       cat      sbux  axp_percent  cat_percent  \\\n",
       "0 1999-01-04 -0.009756  0.029891 -0.040089       -0.976        2.989   \n",
       "1 1999-01-05 -0.019089 -0.002639 -0.034803       -1.909       -0.264   \n",
       "2 1999-01-06  0.043063  0.026455 -0.008413        4.306        2.645   \n",
       "3 1999-01-07  0.012063  0.009021  0.003636        1.206        0.902   \n",
       "4 1999-01-08  0.030393  0.042146  0.021739        3.039        4.215   \n",
       "\n",
       "   sbux_percent   log_axp   log_cat  log_sbux  \n",
       "0        -4.009 -0.009804  0.029453 -0.040915  \n",
       "1        -3.480 -0.019274 -0.002642 -0.035423  \n",
       "2        -0.841  0.042162  0.026111 -0.008449  \n",
       "3         0.364  0.011991  0.008981  0.003629  \n",
       "4         2.174  0.029940  0.041282  0.021506  "
      ]
     },
     "execution_count": 21,
     "metadata": {},
     "output_type": "execute_result"
    }
   ],
   "source": [
    "ut.add_log_returns(data, data.drop(columns=['date', *percent_data], axis=1).columns)\n",
    "data.head()"
   ]
  },
  {
   "cell_type": "markdown",
   "metadata": {},
   "source": [
    "Moving on to part 3, we will add percentage columns for the log returns too:"
   ]
  },
  {
   "cell_type": "code",
   "execution_count": null,
   "metadata": {},
   "outputs": [
    {
     "data": {
      "text/html": [
       "<div>\n",
       "<style scoped>\n",
       "    .dataframe tbody tr th:only-of-type {\n",
       "        vertical-align: middle;\n",
       "    }\n",
       "\n",
       "    .dataframe tbody tr th {\n",
       "        vertical-align: top;\n",
       "    }\n",
       "\n",
       "    .dataframe thead th {\n",
       "        text-align: right;\n",
       "    }\n",
       "</style>\n",
       "<table border=\"1\" class=\"dataframe\">\n",
       "  <thead>\n",
       "    <tr style=\"text-align: right;\">\n",
       "      <th></th>\n",
       "      <th>date</th>\n",
       "      <th>axp</th>\n",
       "      <th>cat</th>\n",
       "      <th>sbux</th>\n",
       "      <th>axp_percent</th>\n",
       "      <th>cat_percent</th>\n",
       "      <th>sbux_percent</th>\n",
       "      <th>log_axp</th>\n",
       "      <th>log_cat</th>\n",
       "      <th>log_sbux</th>\n",
       "      <th>log_axp_percent</th>\n",
       "      <th>log_cat_percent</th>\n",
       "      <th>log_sbux_percent</th>\n",
       "    </tr>\n",
       "  </thead>\n",
       "  <tbody>\n",
       "    <tr>\n",
       "      <th>0</th>\n",
       "      <td>1999-01-04</td>\n",
       "      <td>-0.009756</td>\n",
       "      <td>0.029891</td>\n",
       "      <td>-0.040089</td>\n",
       "      <td>-0.976</td>\n",
       "      <td>2.989</td>\n",
       "      <td>-4.009</td>\n",
       "      <td>-0.009804</td>\n",
       "      <td>0.029453</td>\n",
       "      <td>-0.040915</td>\n",
       "      <td>-0.980</td>\n",
       "      <td>2.945</td>\n",
       "      <td>-4.091</td>\n",
       "    </tr>\n",
       "    <tr>\n",
       "      <th>1</th>\n",
       "      <td>1999-01-05</td>\n",
       "      <td>-0.019089</td>\n",
       "      <td>-0.002639</td>\n",
       "      <td>-0.034803</td>\n",
       "      <td>-1.909</td>\n",
       "      <td>-0.264</td>\n",
       "      <td>-3.480</td>\n",
       "      <td>-0.019274</td>\n",
       "      <td>-0.002642</td>\n",
       "      <td>-0.035423</td>\n",
       "      <td>-1.927</td>\n",
       "      <td>-0.264</td>\n",
       "      <td>-3.542</td>\n",
       "    </tr>\n",
       "    <tr>\n",
       "      <th>2</th>\n",
       "      <td>1999-01-06</td>\n",
       "      <td>0.043063</td>\n",
       "      <td>0.026455</td>\n",
       "      <td>-0.008413</td>\n",
       "      <td>4.306</td>\n",
       "      <td>2.645</td>\n",
       "      <td>-0.841</td>\n",
       "      <td>0.042162</td>\n",
       "      <td>0.026111</td>\n",
       "      <td>-0.008449</td>\n",
       "      <td>4.216</td>\n",
       "      <td>2.611</td>\n",
       "      <td>-0.845</td>\n",
       "    </tr>\n",
       "    <tr>\n",
       "      <th>3</th>\n",
       "      <td>1999-01-07</td>\n",
       "      <td>0.012063</td>\n",
       "      <td>0.009021</td>\n",
       "      <td>0.003636</td>\n",
       "      <td>1.206</td>\n",
       "      <td>0.902</td>\n",
       "      <td>0.364</td>\n",
       "      <td>0.011991</td>\n",
       "      <td>0.008981</td>\n",
       "      <td>0.003629</td>\n",
       "      <td>1.199</td>\n",
       "      <td>0.898</td>\n",
       "      <td>0.363</td>\n",
       "    </tr>\n",
       "    <tr>\n",
       "      <th>4</th>\n",
       "      <td>1999-01-08</td>\n",
       "      <td>0.030393</td>\n",
       "      <td>0.042146</td>\n",
       "      <td>0.021739</td>\n",
       "      <td>3.039</td>\n",
       "      <td>4.215</td>\n",
       "      <td>2.174</td>\n",
       "      <td>0.029940</td>\n",
       "      <td>0.041282</td>\n",
       "      <td>0.021506</td>\n",
       "      <td>2.994</td>\n",
       "      <td>4.128</td>\n",
       "      <td>2.151</td>\n",
       "    </tr>\n",
       "  </tbody>\n",
       "</table>\n",
       "</div>"
      ],
      "text/plain": [
       "        date       axp       cat      sbux  axp_percent  cat_percent  \\\n",
       "0 1999-01-04 -0.009756  0.029891 -0.040089       -0.976        2.989   \n",
       "1 1999-01-05 -0.019089 -0.002639 -0.034803       -1.909       -0.264   \n",
       "2 1999-01-06  0.043063  0.026455 -0.008413        4.306        2.645   \n",
       "3 1999-01-07  0.012063  0.009021  0.003636        1.206        0.902   \n",
       "4 1999-01-08  0.030393  0.042146  0.021739        3.039        4.215   \n",
       "\n",
       "   sbux_percent   log_axp   log_cat  log_sbux  log_axp_percent  \\\n",
       "0        -4.009 -0.009804  0.029453 -0.040915           -0.980   \n",
       "1        -3.480 -0.019274 -0.002642 -0.035423           -1.927   \n",
       "2        -0.841  0.042162  0.026111 -0.008449            4.216   \n",
       "3         0.364  0.011991  0.008981  0.003629            1.199   \n",
       "4         2.174  0.029940  0.041282  0.021506            2.994   \n",
       "\n",
       "   log_cat_percent  log_sbux_percent  \n",
       "0            2.945            -4.091  \n",
       "1           -0.264            -3.542  \n",
       "2            2.611            -0.845  \n",
       "3            0.898             0.363  \n",
       "4            4.128             2.151  "
      ]
     },
     "execution_count": 22,
     "metadata": {},
     "output_type": "execute_result"
    }
   ],
   "source": [
    "ut.add_percent(data, data.drop(columns=['date', *percent_data], axis=1).columns)\n",
    "data.head()"
   ]
  },
  {
   "cell_type": "markdown",
   "metadata": {},
   "source": [
    "Again, we calculate the statistics, this time all at once:"
   ]
  },
  {
   "cell_type": "code",
   "execution_count": null,
   "metadata": {},
   "outputs": [
    {
     "name": "stdout",
     "output_type": "stream",
     "text": [
      "log_axp_percent    -0.336829\n",
      "log_cat_percent    -0.201986\n",
      "log_sbux_percent   -0.597794\n",
      "dtype: float64\n",
      "log_axp_percent      6.509215\n",
      "log_cat_percent      4.712774\n",
      "log_sbux_percent    12.936699\n",
      "dtype: float64\n"
     ]
    },
    {
     "data": {
      "text/html": [
       "<div>\n",
       "<style scoped>\n",
       "    .dataframe tbody tr th:only-of-type {\n",
       "        vertical-align: middle;\n",
       "    }\n",
       "\n",
       "    .dataframe tbody tr th {\n",
       "        vertical-align: top;\n",
       "    }\n",
       "\n",
       "    .dataframe thead th {\n",
       "        text-align: right;\n",
       "    }\n",
       "</style>\n",
       "<table border=\"1\" class=\"dataframe\">\n",
       "  <thead>\n",
       "    <tr style=\"text-align: right;\">\n",
       "      <th></th>\n",
       "      <th>log_axp_percent</th>\n",
       "      <th>log_cat_percent</th>\n",
       "      <th>log_sbux_percent</th>\n",
       "    </tr>\n",
       "  </thead>\n",
       "  <tbody>\n",
       "    <tr>\n",
       "      <th>count</th>\n",
       "      <td>2515.000000</td>\n",
       "      <td>2515.000000</td>\n",
       "      <td>2515.000000</td>\n",
       "    </tr>\n",
       "    <tr>\n",
       "      <th>mean</th>\n",
       "      <td>-0.015436</td>\n",
       "      <td>0.035951</td>\n",
       "      <td>0.011879</td>\n",
       "    </tr>\n",
       "    <tr>\n",
       "      <th>std</th>\n",
       "      <td>2.452892</td>\n",
       "      <td>2.171488</td>\n",
       "      <td>2.695884</td>\n",
       "    </tr>\n",
       "    <tr>\n",
       "      <th>min</th>\n",
       "      <td>-19.352000</td>\n",
       "      <td>-15.686000</td>\n",
       "      <td>-33.249000</td>\n",
       "    </tr>\n",
       "    <tr>\n",
       "      <th>25%</th>\n",
       "      <td>-1.117500</td>\n",
       "      <td>-1.150500</td>\n",
       "      <td>-1.255000</td>\n",
       "    </tr>\n",
       "    <tr>\n",
       "      <th>50%</th>\n",
       "      <td>-0.018000</td>\n",
       "      <td>0.049000</td>\n",
       "      <td>-0.051000</td>\n",
       "    </tr>\n",
       "    <tr>\n",
       "      <th>75%</th>\n",
       "      <td>1.087000</td>\n",
       "      <td>1.199000</td>\n",
       "      <td>1.241000</td>\n",
       "    </tr>\n",
       "    <tr>\n",
       "      <th>max</th>\n",
       "      <td>16.489000</td>\n",
       "      <td>13.735000</td>\n",
       "      <td>13.659000</td>\n",
       "    </tr>\n",
       "  </tbody>\n",
       "</table>\n",
       "</div>"
      ],
      "text/plain": [
       "       log_axp_percent  log_cat_percent  log_sbux_percent\n",
       "count      2515.000000      2515.000000       2515.000000\n",
       "mean         -0.015436         0.035951          0.011879\n",
       "std           2.452892         2.171488          2.695884\n",
       "min         -19.352000       -15.686000        -33.249000\n",
       "25%          -1.117500        -1.150500         -1.255000\n",
       "50%          -0.018000         0.049000         -0.051000\n",
       "75%           1.087000         1.199000          1.241000\n",
       "max          16.489000        13.735000         13.659000"
      ]
     },
     "execution_count": 23,
     "metadata": {},
     "output_type": "execute_result"
    }
   ],
   "source": [
    "log_percent_data = data.filter(regex='^log_.*_percent$')\n",
    "print(log_percent_data.skew())\n",
    "print(log_percent_data.kurtosis())\n",
    "log_percent_data.describe()"
   ]
  },
  {
   "cell_type": "markdown",
   "metadata": {},
   "source": [
    "Lastly, we perform the three hypothesis tests for the mean. Assuming asymptotic normality here (quite a big assumption but seems to be what Tsay wants):"
   ]
  },
  {
   "cell_type": "code",
   "execution_count": null,
   "metadata": {},
   "outputs": [
    {
     "name": "stdout",
     "output_type": "stream",
     "text": [
      "For log_axp, the p_value is: 0.7523671583912229\n",
      "For log_cat, the p_value is: 0.40648956069574815\n",
      "For log_sbux, the p_value is: 0.8250359651358331\n"
     ]
    }
   ],
   "source": [
    "log_ret = data.filter(regex='^log_').drop(log_percent_data, axis=1)\n",
    "ut.t_test_for_mean(log_ret, log_ret.columns)"
   ]
  },
  {
   "cell_type": "markdown",
   "metadata": {},
   "source": [
    "We can clearly see that in each case the p values are much greater then 5%, thus we can accept the null."
   ]
  },
  {
   "cell_type": "markdown",
   "metadata": {},
   "source": [
    "Now we continue with exercise 4. We perform the two requested tests using scipy.stats (notice that the built in scipy test implicitly tests\n",
    "for $H_0 := \\mathbb{E}[(\\frac{X - \\mu}{\\sigma})^3] = 0$ since it tests against a normal distribution which has 0 skewness):"
   ]
  },
  {
   "cell_type": "code",
   "execution_count": null,
   "metadata": {},
   "outputs": [
    {
     "name": "stdout",
     "output_type": "stream",
     "text": [
      "The p value for the skewness test is: 1.675486855417496e-11\n",
      "The p value for the kurtosis test is: 1.5749248344218033e-76\n"
     ]
    }
   ],
   "source": [
    "from scipy import stats\n",
    "log_amex = data['log_axp']\n",
    "skewness_p_val = stats.skewtest(log_amex)[1]\n",
    "kurtosis_p_val = stats.kurtosistest(log_amex)[1]\n",
    "print(f'The p value for the skewness test is: {skewness_p_val}')\n",
    "print(f'The p value for the kurtosis test is: {kurtosis_p_val}')"
   ]
  },
  {
   "cell_type": "markdown",
   "metadata": {},
   "source": [
    "Since both are much smaller then 5%, we reject the null for both."
   ]
  }
 ],
 "metadata": {
  "kernelspec": {
   "display_name": ".venv",
   "language": "python",
   "name": "python3"
  },
  "language_info": {
   "codemirror_mode": {
    "name": "ipython",
    "version": 3
   },
   "file_extension": ".py",
   "mimetype": "text/x-python",
   "name": "python",
   "nbconvert_exporter": "python",
   "pygments_lexer": "ipython3",
   "version": "3.13.2"
  }
 },
 "nbformat": 4,
 "nbformat_minor": 2
}
